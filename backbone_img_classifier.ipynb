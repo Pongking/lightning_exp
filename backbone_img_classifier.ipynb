{
 "cells": [
  {
   "cell_type": "code",
   "execution_count": 42,
   "metadata": {},
   "outputs": [],
   "source": [
    "import  os \n",
    "from typing import Optional\n",
    "import torch\n",
    "from pytorch_lightning import LightningDataModule,LightningModule,cli_lightning_logo\n",
    "from pytorch_lightning.cli import LightningCLI\n",
    "from torchvision.datasets import MNIST\n",
    "from pytorch_lightning.utilities.imports import _TORCHVISION_AVAILABLE\n",
    "import  pytorch_lightning as pl\n",
    "from torch.nn import functional as F\n",
    "from torch.utils.data import DataLoader,random_split"
   ]
  },
  {
   "cell_type": "code",
   "execution_count": 3,
   "metadata": {},
   "outputs": [],
   "source": [
    "if _TORCHVISION_AVAILABLE:\n",
    "    from torchvision import transforms"
   ]
  },
  {
   "cell_type": "code",
   "execution_count": 5,
   "metadata": {},
   "outputs": [],
   "source": [
    "class Backbone(torch.nn.Module):\n",
    "    def __init__(self,hidden_dim=128):\n",
    "        super().__init__()\n",
    "        self.l1=torch.nn.Linear(28*28,hidden_dim)\n",
    "        self.l2=torch.nn.Linear(hidden_dim,10)\n",
    "    def forward(self,x):\n",
    "        x=x.view(x.size(0),-1)\n",
    "        x=torch.relu(self.l1(x))\n",
    "        return torch.relu(self.l2(x))\n",
    "    "
   ]
  },
  {
   "cell_type": "code",
   "execution_count": 29,
   "metadata": {},
   "outputs": [],
   "source": [
    "from typing import Any\n",
    "\n",
    "\n",
    "class LitClassifier(LightningModule):\n",
    "    def __init__(self,backbone:Optional[Backbone]=None,learning_rate:float=1e-4):\n",
    "        super().__init__()\n",
    "        self.save_hyperparameters(ignore=[\"backbone\"])\n",
    "        if backbone is None:\n",
    "            backbone=Backbone()\n",
    "        self.backbone=backbone\n",
    "    def forward(self,x):\n",
    "        return self.backbone(x)\n",
    "    def training_step(self,batch,batch_idx):\n",
    "        x,y=batch\n",
    "        y_hat=self(x)\n",
    "        loss=F.cross_entropy(y_hat,y)\n",
    "        self.log(\"train_loss\",loss,on_epoch=True,prog_bar=True)\n",
    "        return loss\n",
    "    def validation_step(self, batch,batch_idx):\n",
    "        x,y=batch\n",
    "        y_hat=self(x)\n",
    "        loss=F.cross_entropy(y_hat,y)\n",
    "        self.log(\"val_loss\",loss,on_epoch=True,prog_bar=True)\n",
    "        return loss\n",
    "    def test_step(self, batch,batch_idx):\n",
    "        x,y=batch\n",
    "        y_hat=self(x)\n",
    "        loss=F.cross_entropy(y_hat,y)\n",
    "        self.log(\"test_loss\",loss,on_epoch=True,prog_bar=True)\n",
    "    def predict_step(self,batch,batch_idx,dataloader_idx=None):\n",
    "        x,_=batch\n",
    "        return self(x)\n",
    "    def configure_optimizers(self):\n",
    "        return torch.optim.Adam(self.parameters(),lr=self.hparams.learning_rate)\n",
    "model=LitClassifier()"
   ]
  },
  {
   "cell_type": "code",
   "execution_count": 48,
   "metadata": {},
   "outputs": [],
   "source": [
    "from pytorch_lightning.utilities.types import TRAIN_DATALOADERS\n",
    "\n",
    "\n",
    "class MyDataModule(LightningDataModule):\n",
    "    def __init__(self,batch_size:int=32):\n",
    "        super().__init__()\n",
    "        dataset=MNIST(os.getcwd(),train=True,download=False,transform=transforms.ToTensor())\n",
    "        self.mnist_test=MNIST(os.getcwd(),train=False,download=False,transform=transforms.ToTensor())\n",
    "        self.mnist_train,self.mnist_val=random_split(\n",
    "            dataset,[55000,5000],generator=torch.Generator().manual_seed(42)\n",
    "        )\n",
    "        self.batch_size=batch_size\n",
    "    def train_dataloader(self):\n",
    "        return DataLoader(self.mnist_train,batch_size=self.batch_size)\n",
    "    def val_dataloader(self):\n",
    "        return DataLoader(self.mnist_val,batch_size=self.batch_size)\n",
    "    def test_dataloader(self):\n",
    "        return DataLoader(self.mnist_test,batch_size=self.batch_size)\n",
    "    def predict_dataloader(self):\n",
    "        return DataLoader(self.mnist_test,batch_size=self.batch_size)\n",
    "mydata=MyDataModule(128)"
   ]
  },
  {
   "cell_type": "code",
   "execution_count": 47,
   "metadata": {},
   "outputs": [
    {
     "name": "stderr",
     "output_type": "stream",
     "text": [
      "Trainer will use only 1 of 4 GPUs because it is running inside an interactive / notebook environment. You may try to set `Trainer(devices=4)` but please note that multi-GPU inside interactive / notebook environments is considered experimental and unstable. Your mileage may vary.\n",
      "GPU available: True (cuda), used: True\n",
      "TPU available: False, using: 0 TPU cores\n",
      "IPU available: False, using: 0 IPUs\n",
      "HPU available: False, using: 0 HPUs\n"
     ]
    }
   ],
   "source": [
    "trainer=pl.Trainer(max_epochs=5)"
   ]
  },
  {
   "cell_type": "code",
   "execution_count": 49,
   "metadata": {},
   "outputs": [
    {
     "name": "stderr",
     "output_type": "stream",
     "text": [
      "/root/miniconda3/envs/dsi_exp/lib/python3.11/site-packages/pytorch_lightning/trainer/configuration_validator.py:74: You defined a `validation_step` but have no `val_dataloader`. Skipping val loop.\n",
      "LOCAL_RANK: 0 - CUDA_VISIBLE_DEVICES: [0,1,2,3]\n",
      "\n",
      "  | Name     | Type     | Params\n",
      "--------------------------------------\n",
      "0 | backbone | Backbone | 101 K \n",
      "--------------------------------------\n",
      "101 K     Trainable params\n",
      "0         Non-trainable params\n",
      "101 K     Total params\n",
      "0.407     Total estimated model params size (MB)\n",
      "/root/miniconda3/envs/dsi_exp/lib/python3.11/site-packages/pytorch_lightning/trainer/connectors/data_connector.py:441: The 'train_dataloader' does not have many workers which may be a bottleneck. Consider increasing the value of the `num_workers` argument` to `num_workers=63` in the `DataLoader` to improve performance.\n"
     ]
    },
    {
     "name": "stdout",
     "output_type": "stream",
     "text": [
      "Epoch 4: 100%|██████████| 430/430 [00:05<00:00, 79.55it/s, v_num=11, train_loss_step=0.270, train_loss_epoch=0.246] "
     ]
    },
    {
     "name": "stderr",
     "output_type": "stream",
     "text": [
      "`Trainer.fit` stopped: `max_epochs=5` reached.\n"
     ]
    },
    {
     "name": "stdout",
     "output_type": "stream",
     "text": [
      "Epoch 4: 100%|██████████| 430/430 [00:05<00:00, 79.46it/s, v_num=11, train_loss_step=0.270, train_loss_epoch=0.246]\n"
     ]
    }
   ],
   "source": [
    "trainer.fit(model=model,train_dataloaders=mydata.train_dataloader())"
   ]
  },
  {
   "cell_type": "code",
   "execution_count": null,
   "metadata": {},
   "outputs": [],
   "source": []
  }
 ],
 "metadata": {
  "kernelspec": {
   "display_name": "dsi_exp",
   "language": "python",
   "name": "python3"
  },
  "language_info": {
   "codemirror_mode": {
    "name": "ipython",
    "version": 3
   },
   "file_extension": ".py",
   "mimetype": "text/x-python",
   "name": "python",
   "nbconvert_exporter": "python",
   "pygments_lexer": "ipython3",
   "version": "3.11.5"
  }
 },
 "nbformat": 4,
 "nbformat_minor": 2
}
